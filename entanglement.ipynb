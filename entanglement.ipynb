{
 "cells": [
  {
   "cell_type": "code",
   "execution_count": null,
   "metadata": {},
   "outputs": [],
   "source": [
    "//Hello World program\n",
    "\n",
    "operation hello () : Unit {\n",
    "    Message(\"Hello World!!\");\n",
    "}"
   ]
  },
  {
   "cell_type": "code",
   "execution_count": null,
   "metadata": {},
   "outputs": [],
   "source": [
    "%simulate hello"
   ]
  },
  {
   "cell_type": "code",
   "execution_count": null,
   "metadata": {},
   "outputs": [],
   "source": [
    "//Quantum Entanglement demo\n",
    "\n",
    "open Microsoft.Quantum.Diagnostics;\n",
    "\n",
    "operation Entanglement_demo () : Unit {\n",
    "    let divider = \"--------------------------------------------------------------------------------------------------\";\n",
    "    \n",
    "    using (qs = Qubit[2]) {\n",
    "        \n",
    "        \n",
    "        // The next lines entangle the qubits.\n",
    "        // Don't worry about what exactly they do for now\n",
    "        H(qs[1]);\n",
    "        CNOT(qs[0], qs[1]);\n",
    "        \n",
    "        Message(\"Entangled state 0.5(|00⟩ - |11⟩):\");\n",
    "        DumpMachine();\n",
    "        Message(divider);\n",
    "        \n",
    "        // Since the states of entangled qubits are inseparable,\n",
    "        // it makes no sense to examine only one of them\n",
    "        Message(\"Let's try to examine one of two entangled qubits on its own...\");\n",
    "        DumpRegister((), [qs[0]]);\n",
    "        \n",
    "        // This returns the system into state |00⟩\n",
    "        ResetAll(qs);\n",
    "    }\n",
    "}"
   ]
  },
  {
   "cell_type": "code",
   "execution_count": null,
   "metadata": {},
   "outputs": [],
   "source": [
    "%simulate Entanglement_demo"
   ]
  }
 ],
 "metadata": {
  "language_info": {
   "codemirror_mode": {
    "name": "ipython",
    "version": 3
   },
   "file_extension": ".py",
   "mimetype": "text/x-python",
   "name": "python",
   "nbconvert_exporter": "python",
   "pygments_lexer": "ipython3",
   "version": 3
  },
  "orig_nbformat": 2
 },
 "nbformat": 4,
 "nbformat_minor": 2
}