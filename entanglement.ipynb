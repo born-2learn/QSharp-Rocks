{
 "cells": [
  {
   "cell_type": "code",
   "execution_count": null,
   "metadata": {},
   "outputs": [],
   "source": [
    "open Microsoft.Quantum.Diagnostics;\n",
    "\n",
    "operation Entanglement_demo () : Unit {\n",
    "    let divider = \"--------------------------------------------------------------------------------------------------\";\n",
    "    \n",
    "    using (qs = Qubit[2]) {\n",
    "        //Apply Pauli-X Gate\n",
    "        X(qs[0]);\n",
    "        \n",
    "        Message(\"System in state |10⟩ = |1⟩:\");\n",
    "        DumpMachine();\n",
    "        Message(divider);\n",
    "        \n",
    "        //Apply Hadamard Gate to Qubit-1 qs[1]\n",
    "        H(qs[1]);\n",
    "        \n",
    "        //Message(\"System in state (1/sqrt(2))(|10⟩ + |11⟩) = (1/sqrt(2))(|1⟩ + |3⟩):\");\n",
    "        //DumpMachine();\n",
    "        //Message(divider);\n",
    "        \n",
    "        //Apply Hadamard gate to Qubit-0 qs[0]\n",
    "        H(qs[0]);\n",
    "        \n",
    "        //Message(\"System in state 0.5(|00⟩ + |01⟩ - |10⟩ - |11⟩) = 0.5(|0⟩ + |2⟩ - |1⟩ - |3⟩):\");\n",
    "        //DumpMachine();\n",
    "        //Message(divider);\n",
    "        \n",
    "        // You can use DumpRegister to examine the state of specific qubits rather than the entire simulator.\n",
    "        // This prints the state of the first qubit\n",
    "        Message(\"First qubit (in state |-⟩ = (1/sqrt(2))(|0⟩ - |1⟩):\");\n",
    "        DumpRegister((), [qs[0]]);\n",
    "        Message(divider);\n",
    "        \n",
    "        // The next lines entangle the qubits.\n",
    "        // Don't worry about what exactly they do for now\n",
    "        H(qs[1]);\n",
    "        CNOT(qs[0], qs[1]);\n",
    "        \n",
    "        Message(\"Entangled state 0.5(|00⟩ - |11⟩):\");\n",
    "        DumpMachine();\n",
    "        Message(divider);\n",
    "        \n",
    "        // Since the states of entangled qubits are inseparable,\n",
    "        // it makes no sense to examine only one of them\n",
    "        Message(\"Let's try to examine one of two entangled qubits on its own...\");\n",
    "        DumpRegister((), [qs[0]]);\n",
    "        \n",
    "        // This returns the system into state |00⟩\n",
    "        ResetAll(qs);\n",
    "    }\n",
    "}"
   ]
  },
  {
   "cell_type": "code",
   "execution_count": null,
   "metadata": {},
   "outputs": [],
   "source": [
    "%simulate Entanglement_demo"
   ]
  }
 ],
 "metadata": {
  "language_info": {
   "codemirror_mode": {
    "name": "ipython",
    "version": 3
   },
   "file_extension": ".py",
   "mimetype": "text/x-python",
   "name": "python",
   "nbconvert_exporter": "python",
   "pygments_lexer": "ipython3",
   "version": 3
  },
  "orig_nbformat": 2
 },
 "nbformat": 4,
 "nbformat_minor": 2
}